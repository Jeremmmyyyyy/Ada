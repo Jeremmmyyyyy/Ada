{
 "cells": [
  {
   "cell_type": "markdown",
   "metadata": {},
   "source": [
    "# Describing Data\n",
    "\n",
    "### What do you find in this notebook?\n",
    "\n",
    "In this exercise, first, you will familiarize yourself with the Python libraries 'statsmodels' and 'SciPy' that let you do statistical analysis: calculate descriptive statistics, sample datapoints, study relationships between variables, and perform hypothesis testing. Then, second, you will work on a set of exercises that will let you practice your skills.\n",
    "\n",
    "Here we show a couple of examples of how to do common analyses, but there are many more useful probability distributions and statistical tests. In the linked documentation, you will find complete information, and a lot more details compared to what is outlined in this notebook:\n",
    "- [statsmodels](https://www.statsmodels.org/stable/examples/index.html), [more complete documentation](https://www.statsmodels.org/stable/stats.html)\n",
    "- [SciPy](https://docs.scipy.org/doc/scipy/reference/stats.html)"
   ]
  },
  {
   "cell_type": "markdown",
   "metadata": {},
   "source": [
    "# Tutorial: How to use the libraries\n",
    "\n",
    "- You will be working with the full US 2015 census dataset (acs2015_county_data.csv, available at https://www.kaggle.com/muonneutrino/us-census-demographic-data#acs2015_county_data.csv). Here we load it. Take some time to familiarize yourself with the contents. One row represents one county."
   ]
  },
  {
   "cell_type": "code",
   "execution_count": 1,
   "metadata": {
    "tags": []
   },
   "outputs": [],
   "source": [
    "import pandas as pd\n",
    "import pandas as pd\n",
    "import numpy as np\n",
    "import matplotlib.pyplot as plt\n",
    "%matplotlib inline\n",
    "import seaborn as sns\n",
    "import math\n",
    "\n",
    "#load the statistical libraries\n",
    "from statsmodels.stats import diagnostic\n",
    "from scipy import stats"
   ]
  },
  {
   "cell_type": "code",
   "execution_count": 2,
   "metadata": {
    "tags": []
   },
   "outputs": [],
   "source": [
    "data_folder = './data/'\n",
    "df = pd.read_csv(data_folder + 'acs2015_county_data.csv')"
   ]
  },
  {
   "cell_type": "code",
   "execution_count": 3,
   "metadata": {},
   "outputs": [
    {
     "data": {
      "text/plain": [
       "Index(['CensusId', 'State', 'County', 'TotalPop', 'Men', 'Women', 'Hispanic',\n",
       "       'White', 'Black', 'Native', 'Asian', 'Pacific', 'Citizen', 'Income',\n",
       "       'IncomeErr', 'IncomePerCap', 'IncomePerCapErr', 'Poverty',\n",
       "       'ChildPoverty', 'Professional', 'Service', 'Office', 'Construction',\n",
       "       'Production', 'Drive', 'Carpool', 'Transit', 'Walk', 'OtherTransp',\n",
       "       'WorkAtHome', 'MeanCommute', 'Employed', 'PrivateWork', 'PublicWork',\n",
       "       'SelfEmployed', 'FamilyWork', 'Unemployment'],\n",
       "      dtype='object')"
      ]
     },
     "execution_count": 3,
     "metadata": {},
     "output_type": "execute_result"
    }
   ],
   "source": [
    "df.columns"
   ]
  },
  {
   "cell_type": "code",
   "execution_count": 4,
   "metadata": {},
   "outputs": [
    {
     "data": {
      "text/html": [
       "<div>\n",
       "<style scoped>\n",
       "    .dataframe tbody tr th:only-of-type {\n",
       "        vertical-align: middle;\n",
       "    }\n",
       "\n",
       "    .dataframe tbody tr th {\n",
       "        vertical-align: top;\n",
       "    }\n",
       "\n",
       "    .dataframe thead th {\n",
       "        text-align: right;\n",
       "    }\n",
       "</style>\n",
       "<table border=\"1\" class=\"dataframe\">\n",
       "  <thead>\n",
       "    <tr style=\"text-align: right;\">\n",
       "      <th></th>\n",
       "      <th>CensusId</th>\n",
       "      <th>State</th>\n",
       "      <th>County</th>\n",
       "      <th>TotalPop</th>\n",
       "      <th>Men</th>\n",
       "      <th>Women</th>\n",
       "      <th>Hispanic</th>\n",
       "      <th>White</th>\n",
       "      <th>Black</th>\n",
       "      <th>Native</th>\n",
       "      <th>...</th>\n",
       "      <th>Walk</th>\n",
       "      <th>OtherTransp</th>\n",
       "      <th>WorkAtHome</th>\n",
       "      <th>MeanCommute</th>\n",
       "      <th>Employed</th>\n",
       "      <th>PrivateWork</th>\n",
       "      <th>PublicWork</th>\n",
       "      <th>SelfEmployed</th>\n",
       "      <th>FamilyWork</th>\n",
       "      <th>Unemployment</th>\n",
       "    </tr>\n",
       "  </thead>\n",
       "  <tbody>\n",
       "    <tr>\n",
       "      <th>2202</th>\n",
       "      <td>40143</td>\n",
       "      <td>Oklahoma</td>\n",
       "      <td>Tulsa</td>\n",
       "      <td>623335</td>\n",
       "      <td>303789</td>\n",
       "      <td>319546</td>\n",
       "      <td>11.7</td>\n",
       "      <td>64.0</td>\n",
       "      <td>9.9</td>\n",
       "      <td>4.4</td>\n",
       "      <td>...</td>\n",
       "      <td>1.3</td>\n",
       "      <td>1.5</td>\n",
       "      <td>3.8</td>\n",
       "      <td>19.4</td>\n",
       "      <td>302471</td>\n",
       "      <td>84.5</td>\n",
       "      <td>9.7</td>\n",
       "      <td>5.6</td>\n",
       "      <td>0.2</td>\n",
       "      <td>6.5</td>\n",
       "    </tr>\n",
       "    <tr>\n",
       "      <th>629</th>\n",
       "      <td>17069</td>\n",
       "      <td>Illinois</td>\n",
       "      <td>Hardin</td>\n",
       "      <td>4228</td>\n",
       "      <td>2184</td>\n",
       "      <td>2044</td>\n",
       "      <td>1.8</td>\n",
       "      <td>96.0</td>\n",
       "      <td>0.8</td>\n",
       "      <td>0.1</td>\n",
       "      <td>...</td>\n",
       "      <td>2.1</td>\n",
       "      <td>1.4</td>\n",
       "      <td>6.2</td>\n",
       "      <td>25.2</td>\n",
       "      <td>1493</td>\n",
       "      <td>75.4</td>\n",
       "      <td>18.4</td>\n",
       "      <td>5.7</td>\n",
       "      <td>0.5</td>\n",
       "      <td>18.1</td>\n",
       "    </tr>\n",
       "    <tr>\n",
       "      <th>3120</th>\n",
       "      <td>56003</td>\n",
       "      <td>Wyoming</td>\n",
       "      <td>Big Horn</td>\n",
       "      <td>11895</td>\n",
       "      <td>6002</td>\n",
       "      <td>5893</td>\n",
       "      <td>8.9</td>\n",
       "      <td>88.1</td>\n",
       "      <td>0.1</td>\n",
       "      <td>1.1</td>\n",
       "      <td>...</td>\n",
       "      <td>7.0</td>\n",
       "      <td>2.6</td>\n",
       "      <td>5.7</td>\n",
       "      <td>16.9</td>\n",
       "      <td>5288</td>\n",
       "      <td>70.2</td>\n",
       "      <td>20.8</td>\n",
       "      <td>8.7</td>\n",
       "      <td>0.3</td>\n",
       "      <td>4.4</td>\n",
       "    </tr>\n",
       "    <tr>\n",
       "      <th>1723</th>\n",
       "      <td>31139</td>\n",
       "      <td>Nebraska</td>\n",
       "      <td>Pierce</td>\n",
       "      <td>7184</td>\n",
       "      <td>3632</td>\n",
       "      <td>3552</td>\n",
       "      <td>1.5</td>\n",
       "      <td>97.2</td>\n",
       "      <td>0.1</td>\n",
       "      <td>0.1</td>\n",
       "      <td>...</td>\n",
       "      <td>2.4</td>\n",
       "      <td>1.2</td>\n",
       "      <td>8.6</td>\n",
       "      <td>18.9</td>\n",
       "      <td>3663</td>\n",
       "      <td>73.6</td>\n",
       "      <td>13.4</td>\n",
       "      <td>12.5</td>\n",
       "      <td>0.5</td>\n",
       "      <td>4.7</td>\n",
       "    </tr>\n",
       "    <tr>\n",
       "      <th>566</th>\n",
       "      <td>16031</td>\n",
       "      <td>Idaho</td>\n",
       "      <td>Cassia</td>\n",
       "      <td>23369</td>\n",
       "      <td>11866</td>\n",
       "      <td>11503</td>\n",
       "      <td>26.2</td>\n",
       "      <td>71.4</td>\n",
       "      <td>0.2</td>\n",
       "      <td>0.5</td>\n",
       "      <td>...</td>\n",
       "      <td>3.9</td>\n",
       "      <td>0.7</td>\n",
       "      <td>4.2</td>\n",
       "      <td>15.4</td>\n",
       "      <td>9771</td>\n",
       "      <td>79.8</td>\n",
       "      <td>12.4</td>\n",
       "      <td>7.7</td>\n",
       "      <td>0.1</td>\n",
       "      <td>5.7</td>\n",
       "    </tr>\n",
       "    <tr>\n",
       "      <th>1017</th>\n",
       "      <td>21049</td>\n",
       "      <td>Kentucky</td>\n",
       "      <td>Clark</td>\n",
       "      <td>35657</td>\n",
       "      <td>17464</td>\n",
       "      <td>18193</td>\n",
       "      <td>2.8</td>\n",
       "      <td>90.4</td>\n",
       "      <td>5.3</td>\n",
       "      <td>0.0</td>\n",
       "      <td>...</td>\n",
       "      <td>2.1</td>\n",
       "      <td>1.0</td>\n",
       "      <td>3.7</td>\n",
       "      <td>23.3</td>\n",
       "      <td>15950</td>\n",
       "      <td>79.9</td>\n",
       "      <td>14.2</td>\n",
       "      <td>5.3</td>\n",
       "      <td>0.6</td>\n",
       "      <td>7.9</td>\n",
       "    </tr>\n",
       "    <tr>\n",
       "      <th>75</th>\n",
       "      <td>2100</td>\n",
       "      <td>Alaska</td>\n",
       "      <td>Haines Borough</td>\n",
       "      <td>2560</td>\n",
       "      <td>1387</td>\n",
       "      <td>1173</td>\n",
       "      <td>1.5</td>\n",
       "      <td>79.6</td>\n",
       "      <td>0.0</td>\n",
       "      <td>6.4</td>\n",
       "      <td>...</td>\n",
       "      <td>8.1</td>\n",
       "      <td>9.0</td>\n",
       "      <td>7.4</td>\n",
       "      <td>8.2</td>\n",
       "      <td>1470</td>\n",
       "      <td>69.0</td>\n",
       "      <td>19.7</td>\n",
       "      <td>10.3</td>\n",
       "      <td>1.0</td>\n",
       "      <td>3.0</td>\n",
       "    </tr>\n",
       "    <tr>\n",
       "      <th>1511</th>\n",
       "      <td>29057</td>\n",
       "      <td>Missouri</td>\n",
       "      <td>Dade</td>\n",
       "      <td>7618</td>\n",
       "      <td>3881</td>\n",
       "      <td>3737</td>\n",
       "      <td>1.8</td>\n",
       "      <td>94.3</td>\n",
       "      <td>0.5</td>\n",
       "      <td>0.5</td>\n",
       "      <td>...</td>\n",
       "      <td>3.6</td>\n",
       "      <td>0.7</td>\n",
       "      <td>6.7</td>\n",
       "      <td>26.0</td>\n",
       "      <td>3307</td>\n",
       "      <td>70.8</td>\n",
       "      <td>14.3</td>\n",
       "      <td>13.8</td>\n",
       "      <td>1.1</td>\n",
       "      <td>7.9</td>\n",
       "    </tr>\n",
       "    <tr>\n",
       "      <th>2968</th>\n",
       "      <td>53031</td>\n",
       "      <td>Washington</td>\n",
       "      <td>Jefferson</td>\n",
       "      <td>30083</td>\n",
       "      <td>14850</td>\n",
       "      <td>15233</td>\n",
       "      <td>3.4</td>\n",
       "      <td>88.7</td>\n",
       "      <td>0.8</td>\n",
       "      <td>2.2</td>\n",
       "      <td>...</td>\n",
       "      <td>5.9</td>\n",
       "      <td>2.6</td>\n",
       "      <td>8.7</td>\n",
       "      <td>22.6</td>\n",
       "      <td>11518</td>\n",
       "      <td>66.9</td>\n",
       "      <td>18.2</td>\n",
       "      <td>14.8</td>\n",
       "      <td>0.1</td>\n",
       "      <td>9.5</td>\n",
       "    </tr>\n",
       "    <tr>\n",
       "      <th>1828</th>\n",
       "      <td>36001</td>\n",
       "      <td>New York</td>\n",
       "      <td>Albany</td>\n",
       "      <td>307463</td>\n",
       "      <td>148776</td>\n",
       "      <td>158687</td>\n",
       "      <td>5.5</td>\n",
       "      <td>74.2</td>\n",
       "      <td>11.8</td>\n",
       "      <td>0.1</td>\n",
       "      <td>...</td>\n",
       "      <td>4.5</td>\n",
       "      <td>1.5</td>\n",
       "      <td>2.9</td>\n",
       "      <td>20.4</td>\n",
       "      <td>155200</td>\n",
       "      <td>70.9</td>\n",
       "      <td>25.0</td>\n",
       "      <td>4.0</td>\n",
       "      <td>0.1</td>\n",
       "      <td>6.4</td>\n",
       "    </tr>\n",
       "  </tbody>\n",
       "</table>\n",
       "<p>10 rows × 37 columns</p>\n",
       "</div>"
      ],
      "text/plain": [
       "      CensusId       State          County  TotalPop     Men   Women  \\\n",
       "2202     40143    Oklahoma           Tulsa    623335  303789  319546   \n",
       "629      17069    Illinois          Hardin      4228    2184    2044   \n",
       "3120     56003     Wyoming        Big Horn     11895    6002    5893   \n",
       "1723     31139    Nebraska          Pierce      7184    3632    3552   \n",
       "566      16031       Idaho          Cassia     23369   11866   11503   \n",
       "1017     21049    Kentucky           Clark     35657   17464   18193   \n",
       "75        2100      Alaska  Haines Borough      2560    1387    1173   \n",
       "1511     29057    Missouri            Dade      7618    3881    3737   \n",
       "2968     53031  Washington       Jefferson     30083   14850   15233   \n",
       "1828     36001    New York          Albany    307463  148776  158687   \n",
       "\n",
       "      Hispanic  White  Black  Native  ...  Walk  OtherTransp  WorkAtHome  \\\n",
       "2202      11.7   64.0    9.9     4.4  ...   1.3          1.5         3.8   \n",
       "629        1.8   96.0    0.8     0.1  ...   2.1          1.4         6.2   \n",
       "3120       8.9   88.1    0.1     1.1  ...   7.0          2.6         5.7   \n",
       "1723       1.5   97.2    0.1     0.1  ...   2.4          1.2         8.6   \n",
       "566       26.2   71.4    0.2     0.5  ...   3.9          0.7         4.2   \n",
       "1017       2.8   90.4    5.3     0.0  ...   2.1          1.0         3.7   \n",
       "75         1.5   79.6    0.0     6.4  ...   8.1          9.0         7.4   \n",
       "1511       1.8   94.3    0.5     0.5  ...   3.6          0.7         6.7   \n",
       "2968       3.4   88.7    0.8     2.2  ...   5.9          2.6         8.7   \n",
       "1828       5.5   74.2   11.8     0.1  ...   4.5          1.5         2.9   \n",
       "\n",
       "      MeanCommute  Employed  PrivateWork  PublicWork  SelfEmployed  \\\n",
       "2202         19.4    302471         84.5         9.7           5.6   \n",
       "629          25.2      1493         75.4        18.4           5.7   \n",
       "3120         16.9      5288         70.2        20.8           8.7   \n",
       "1723         18.9      3663         73.6        13.4          12.5   \n",
       "566          15.4      9771         79.8        12.4           7.7   \n",
       "1017         23.3     15950         79.9        14.2           5.3   \n",
       "75            8.2      1470         69.0        19.7          10.3   \n",
       "1511         26.0      3307         70.8        14.3          13.8   \n",
       "2968         22.6     11518         66.9        18.2          14.8   \n",
       "1828         20.4    155200         70.9        25.0           4.0   \n",
       "\n",
       "      FamilyWork  Unemployment  \n",
       "2202         0.2           6.5  \n",
       "629          0.5          18.1  \n",
       "3120         0.3           4.4  \n",
       "1723         0.5           4.7  \n",
       "566          0.1           5.7  \n",
       "1017         0.6           7.9  \n",
       "75           1.0           3.0  \n",
       "1511         1.1           7.9  \n",
       "2968         0.1           9.5  \n",
       "1828         0.1           6.4  \n",
       "\n",
       "[10 rows x 37 columns]"
      ]
     },
     "execution_count": 4,
     "metadata": {},
     "output_type": "execute_result"
    }
   ],
   "source": [
    "df.sample(10)"
   ]
  },
  {
   "cell_type": "markdown",
   "metadata": {},
   "source": [
    "- We will focus first on income per capita across counties."
   ]
  },
  {
   "cell_type": "code",
   "execution_count": 5,
   "metadata": {},
   "outputs": [
    {
     "data": {
      "image/png": "[encoded data removed]",
      "text/plain": [
       "<Figure size 640x480 with 1 Axes>"
      ]
     },
     "metadata": {},
     "output_type": "display_data"
    }
   ],
   "source": [
    "df['IncomePerCap'].hist(bins = 50)\n",
    "plt.show()"
   ]
  },
  {
   "cell_type": "markdown",
   "metadata": {},
   "source": [
    "### 1. Calculating descriptive statisctics\n",
    "\n",
    "- Let's calculate basic descriptive statistics of the income per capita."
   ]
  },
  {
   "cell_type": "code",
   "execution_count": 6,
   "metadata": {},
   "outputs": [
    {
     "data": {
      "text/plain": [
       "count     3220.000000\n",
       "mean     23981.771739\n",
       "std       6204.339960\n",
       "min       5878.000000\n",
       "25%      20238.500000\n",
       "50%      23460.000000\n",
       "75%      27053.250000\n",
       "max      65600.000000\n",
       "Name: IncomePerCap, dtype: float64"
      ]
     },
     "execution_count": 6,
     "metadata": {},
     "output_type": "execute_result"
    }
   ],
   "source": [
    "df['IncomePerCap'].describe()"
   ]
  },
  {
   "cell_type": "markdown",
   "metadata": {},
   "source": [
    "- What distribution does the data come from? Here is how we can test the goodness of the fit."
   ]
  },
  {
   "cell_type": "code",
   "execution_count": 7,
   "metadata": {},
   "outputs": [
    {
     "data": {
      "text/plain": [
       "(0.0637621121184162, 0.0009999999999998899)"
      ]
     },
     "execution_count": 7,
     "metadata": {},
     "output_type": "execute_result"
    }
   ],
   "source": [
    "# does the data come from a normal distrbution?\n",
    "diagnostic.kstest_normal(df['IncomePerCap'].values, dist = 'norm')"
   ]
  },
  {
   "cell_type": "markdown",
   "metadata": {},
   "source": [
    "- p_value < 0.05 -> we can reject the null hypothesis that the data comes from a normal distribution!"
   ]
  },
  {
   "cell_type": "code",
   "execution_count": 8,
   "metadata": {},
   "outputs": [
    {
     "data": {
      "text/plain": [
       "(0.433243770582646, 0.0009999999999998899)"
      ]
     },
     "execution_count": 8,
     "metadata": {},
     "output_type": "execute_result"
    }
   ],
   "source": [
    "#how about exponential?\n",
    "diagnostic.kstest_normal(df['IncomePerCap'].values, dist = 'exp')"
   ]
  },
  {
   "cell_type": "markdown",
   "metadata": {},
   "source": [
    "- p < 0.05 -> not exponential either!"
   ]
  },
  {
   "cell_type": "markdown",
   "metadata": {},
   "source": [
    "### 2. How to sample the data"
   ]
  },
  {
   "cell_type": "markdown",
   "metadata": {},
   "source": [
    "- Often we need to find random samples from the dataset. We can do so conveniently with pandas wrappers."
   ]
  },
  {
   "cell_type": "code",
   "execution_count": 9,
   "metadata": {},
   "outputs": [],
   "source": [
    "#make 10 samples with replacement\n",
    "sample1_counties = df.sample(n = 10, replace = True)\n",
    "\n",
    "#make 10 samples without replacement\n",
    "sample1_counties = df.sample(n = 10, replace = False)\n",
    "\n",
    "#sometimes we want to sample in an ublanaced way, so that we upsample datapoints of certain characteristic,\n",
    "#and downsample the others. this can be acieved with weights parameter\n",
    "#here we sample by upsampling counties with large population\n",
    "sample2_counties = df.sample(n = 10, replace = False, weights = df['TotalPop'])"
   ]
  },
  {
   "cell_type": "code",
   "execution_count": 10,
   "metadata": {},
   "outputs": [
    {
     "name": "stdout",
     "output_type": "stream",
     "text": [
      "87629.9\n",
      "806779.0\n"
     ]
    }
   ],
   "source": [
    "#on avergage, the samples in the sample produce with reveighting now have higher population, as we wanted!\n",
    "print(sample1_counties['TotalPop'].mean())\n",
    "print(sample2_counties['TotalPop'].mean())"
   ]
  },
  {
   "cell_type": "markdown",
   "metadata": {},
   "source": [
    "### 3. Examining relationship between two variables"
   ]
  },
  {
   "cell_type": "markdown",
   "metadata": {},
   "source": [
    "- Is income per capita of a county correlated with the unemployment?"
   ]
  },
  {
   "cell_type": "code",
   "execution_count": 11,
   "metadata": {},
   "outputs": [
    {
     "data": {
      "text/plain": [
       "PearsonRResult(statistic=0.2646136320394482, pvalue=9.942215354247144e-53)"
      ]
     },
     "execution_count": 11,
     "metadata": {},
     "output_type": "execute_result"
    }
   ],
   "source": [
    "stats.pearsonr(df['IncomePerCap'],df['Employed'])"
   ]
  },
  {
   "cell_type": "markdown",
   "metadata": {},
   "source": [
    "- There is a small (0.26), but significant (p < 0.05) positive correlation."
   ]
  },
  {
   "cell_type": "code",
   "execution_count": 12,
   "metadata": {},
   "outputs": [
    {
     "data": {
      "text/plain": [
       "SignificanceResult(statistic=0.30770631560595474, pvalue=1.415296431173735e-71)"
      ]
     },
     "execution_count": 12,
     "metadata": {},
     "output_type": "execute_result"
    }
   ],
   "source": [
    "stats.spearmanr(df['IncomePerCap'],df['Employed'])"
   ]
  },
  {
   "cell_type": "markdown",
   "metadata": {},
   "source": [
    "- Spearman rank coorrelation is also significant."
   ]
  },
  {
   "cell_type": "markdown",
   "metadata": {},
   "source": [
    "### 4. Hypothesis testing"
   ]
  },
  {
   "cell_type": "markdown",
   "metadata": {},
   "source": [
    "- Is income per capita higher in New York counties compared to California counties?"
   ]
  },
  {
   "cell_type": "code",
   "execution_count": 13,
   "metadata": {},
   "outputs": [
    {
     "data": {
      "text/plain": [
       "28189.75806451613"
      ]
     },
     "execution_count": 13,
     "metadata": {},
     "output_type": "execute_result"
    }
   ],
   "source": [
    "df.loc[df['State'] == 'New York']['IncomePerCap'].mean()"
   ]
  },
  {
   "cell_type": "code",
   "execution_count": 14,
   "metadata": {},
   "outputs": [
    {
     "data": {
      "text/plain": [
       "27902.603448275862"
      ]
     },
     "execution_count": 14,
     "metadata": {},
     "output_type": "execute_result"
    }
   ],
   "source": [
    "df.loc[df['State'] == 'California']['IncomePerCap'].mean()"
   ]
  },
  {
   "cell_type": "markdown",
   "metadata": {},
   "source": [
    "- We see that there is a ~300$ gap. Quite a lot!\n",
    "- But is it significantly higher? Let's use a t-test. This is a two-sided test for the null hypothesis that the two independent samples have identical average (expected) values. "
   ]
  },
  {
   "cell_type": "code",
   "execution_count": 15,
   "metadata": {},
   "outputs": [
    {
     "data": {
      "text/plain": [
       "TtestResult(statistic=0.19788117232375713, pvalue=0.8434785239169611, df=118.0)"
      ]
     },
     "execution_count": 15,
     "metadata": {},
     "output_type": "execute_result"
    }
   ],
   "source": [
    "stats.ttest_ind(df.loc[df['State'] == 'New York']['IncomePerCap'], df.loc[df['State'] == 'California']['IncomePerCap'])"
   ]
  },
  {
   "cell_type": "markdown",
   "metadata": {},
   "source": [
    "- p is not smaller than 0.05 -> we cannot reject the null hypothesis that the income is the same -> there is no significant difference"
   ]
  },
  {
   "cell_type": "markdown",
   "metadata": {},
   "source": [
    "### 5. How to measure uncertainty\n",
    "- Now we see the importance of mesuring uncertainty and indicating it on data visualizations.\n",
    "- Visual inspection of 95% confidence intervals lets us see that the difference is not significant (the errorbars are overlapping)."
   ]
  },
  {
   "cell_type": "code",
   "execution_count": 16,
   "metadata": {},
   "outputs": [
    {
     "data": {
      "image/png": "[encoded data removed]",
      "text/plain": [
       "<Figure size 640x480 with 1 Axes>"
      ]
     },
     "metadata": {},
     "output_type": "display_data"
    }
   ],
   "source": [
    "ax = sns.barplot(x=\"State\", y=\"IncomePerCap\", data=df.loc[df['State'].isin(['New York','California'])])\n",
    "plt.ylim([25000,32000])\n",
    "plt.show()"
   ]
  },
  {
   "cell_type": "markdown",
   "metadata": {},
   "source": [
    "# Exercise 1: Boosting the economy by incentivizing self-employment\n",
    "\n",
    "Assume the biggest priority of the local government in 2018 is to increase per-capita income. To do so, the officials plan to adopt a strategy for incentivizing self-employment through a series of campaigns, educational programs, and dedicated funds.\n",
    "\n",
    "Since it is unethical and impossible in this setting to run a controlled experiment involving citizens (e.g., fire employees and force them to self-employ), the officials have asked you, the data scientist, to establish the effect of self-employment on the economy, relying on observational data.\n",
    "\n",
    "**A)** Using suitable methods, determine and quantify the dependency between the percentage of self-employed citizens and per capita income across all 3,212 US counties. Do citizens in counties that have a higher percentage of self-employed people earn more per capita?"
   ]
  },
  {
   "cell_type": "code",
   "execution_count": 27,
   "metadata": {},
   "outputs": [
    {
     "name": "stdout",
     "output_type": "stream",
     "text": [
      "PearsonRResult(statistic=0.08727386609551727, pvalue=7.052861196525885e-07)\n",
      "SignificanceResult(statistic=0.056413673053189874, pvalue=0.0013623847564714516)\n"
     ]
    }
   ],
   "source": [
    "### your code and or answer here ###\n",
    "print(stats.pearsonr(df['IncomePerCap'],df['SelfEmployed']))\n",
    "\n",
    "print(stats.spearmanr(df['IncomePerCap'],df['SelfEmployed']))"
   ]
  },
  {
   "cell_type": "markdown",
   "metadata": {},
   "source": [
    "There is no clear association since the correlation is small and p<0.05 which means that the null hypothesis can't be rejected so there is no correlation"
   ]
  },
  {
   "cell_type": "markdown",
   "metadata": {},
   "source": [
    "**B)** The pilot program will involve all counties within a limited set of three US states. Set A includes Wisconsin, Tennessee, and  Minnesota. Quantify the dependency of per-capita income on self-employment rates across all the counties in set A."
   ]
  },
  {
   "cell_type": "code",
   "execution_count": 29,
   "metadata": {},
   "outputs": [
    {
     "name": "stdout",
     "output_type": "stream",
     "text": [
      "PearsonRResult(statistic=-0.20229350736521495, pvalue=0.0011881639322138644)\n",
      "SignificanceResult(statistic=-0.23669790001033852, pvalue=0.00014010090313655094)\n"
     ]
    }
   ],
   "source": [
    "### your code and or answer here ###\n",
    "set_a = df.loc[df[\"State\"].isin([\"Wisconsin\", \"Tennessee\", \"Minnesota\"])]\n",
    "\n",
    "print(stats.pearsonr(set_a['IncomePerCap'],set_a['SelfEmployed']))\n",
    "\n",
    "print(stats.spearmanr(set_a['IncomePerCap'],set_a['SelfEmployed']))"
   ]
  },
  {
   "cell_type": "markdown",
   "metadata": {},
   "source": [
    "There is a small but significant negative correlation between income per capita and self employment in these 3 states"
   ]
  },
  {
   "cell_type": "markdown",
   "metadata": {},
   "source": [
    "**C)** In which state within set A is the observed effect of self-employment on per-capita income the strongest?"
   ]
  },
  {
   "cell_type": "code",
   "execution_count": 30,
   "metadata": {},
   "outputs": [
    {
     "name": "stdout",
     "output_type": "stream",
     "text": [
      "Wisnonsin\n",
      "PearsonRResult(statistic=-0.32905300016378525, pvalue=0.004768134887745218)\n",
      "SignificanceResult(statistic=-0.4635129104404941, pvalue=4.124859155565996e-05)\n",
      "Tennessee\n",
      "PearsonRResult(statistic=-0.2383604868491315, pvalue=0.020011631955528172)\n",
      "SignificanceResult(statistic=-0.316991392780988, pvalue=0.0017487582457931406)\n",
      "minnesota\n",
      "PearsonRResult(statistic=-0.2538551921654062, pvalue=0.01766519930091188)\n",
      "SignificanceResult(statistic=-0.21107460598245847, pvalue=0.04970805582462062)\n"
     ]
    }
   ],
   "source": [
    "### your code and or answer here ###\n",
    "wisconsin = df.loc[df[\"State\"] == \"Wisconsin\"]\n",
    "tenessee = df.loc[df[\"State\"] == \"Tennessee\"]\n",
    "minnesota = df.loc[df[\"State\"] == \"Minnesota\"]\n",
    "\n",
    "print(\"Wisnonsin\")\n",
    "print(stats.pearsonr(wisconsin['IncomePerCap'],wisconsin['SelfEmployed']))\n",
    "print(stats.spearmanr(wisconsin['IncomePerCap'],wisconsin['SelfEmployed']))\n",
    "\n",
    "print(\"Tennessee\")\n",
    "print(stats.pearsonr(tenessee['IncomePerCap'],tenessee['SelfEmployed']))\n",
    "print(stats.spearmanr(tenessee['IncomePerCap'],tenessee['SelfEmployed']))\n",
    "\n",
    "print(\"minnesota\")\n",
    "print(stats.pearsonr(minnesota['IncomePerCap'],minnesota['SelfEmployed']))\n",
    "print(stats.spearmanr(minnesota['IncomePerCap'],minnesota['SelfEmployed']))"
   ]
  },
  {
   "cell_type": "markdown",
   "metadata": {},
   "source": [
    "Biggest negative correlation that is significant is in the Wisconsin state."
   ]
  },
  {
   "cell_type": "code",
   "execution_count": 38,
   "metadata": {},
   "outputs": [
    {
     "data": {
      "image/png": "[encoded data removed]",
      "text/plain": [
       "<Figure size 622x500 with 1 Axes>"
      ]
     },
     "metadata": {},
     "output_type": "display_data"
    }
   ],
   "source": [
    "per_capita_self_empl = df[['State','IncomePerCap', 'SelfEmployed']]\n",
    "\n",
    "\n",
    "all_states = per_capita_self_empl.loc[df[\"State\"].isin([\"Wisconsin\", \"Tennessee\", \"Minnesota\"])]\n",
    "\n",
    "sns.lmplot(x='SelfEmployed',y='IncomePerCap', data=all_states, hue = 'State')\n",
    "plt.xlabel(\"% of Self Employed\")\n",
    "plt.ylabel(\"Income per Capita\")\n",
    "plt.ylim([10000,50000])\n",
    "plt.xlim([0,22])\n",
    "plt.show()"
   ]
  },
  {
   "cell_type": "markdown",
   "metadata": {},
   "source": [
    "**D)** Set B includes New Jersey, Kansas, and Rhode Island. Repeat the analysis from steps B and C above, but now for set B. In which of the two sets A and B (if any) would you recommend incentivizing self-employment? Explain your reasoning. Hint: It is useful to add a notion of confidence to your results and explore the data visually."
   ]
  },
  {
   "cell_type": "code",
   "execution_count": 40,
   "metadata": {},
   "outputs": [
    {
     "name": "stdout",
     "output_type": "stream",
     "text": [
      "PearsonRResult(statistic=-0.23222141346085692, pvalue=0.0076074930428573165)\n",
      "SignificanceResult(statistic=-0.16010624610827853, pvalue=0.06773890774775308)\n",
      "New Jersey\n",
      "PearsonRResult(statistic=0.4804478471336282, pvalue=0.027488944757806215)\n",
      "SignificanceResult(statistic=0.4040346017736601, pvalue=0.06929493068926951)\n",
      "Kansas\n",
      "PearsonRResult(statistic=0.25810299714436924, pvalue=0.007853351846832413)\n",
      "SignificanceResult(statistic=0.28392575483491556, pvalue=0.0033332825399419903)\n",
      "Rhode Island\n",
      "PearsonRResult(statistic=0.9021788382149805, pvalue=0.036183102015759167)\n",
      "SignificanceResult(statistic=0.9999999999999999, pvalue=1.4042654220543672e-24)\n"
     ]
    },
    {
     "data": {
      "image/png": "[encoded data removed]",
      "text/plain": [
       "<Figure size 640x500 with 1 Axes>"
      ]
     },
     "metadata": {},
     "output_type": "display_data"
    }
   ],
   "source": [
    "### your code and or answer here ###\n",
    "set_a = df.loc[df[\"State\"].isin([\"New Jersey\", \"Kansas\", \"Rhode Island\"])]\n",
    "\n",
    "print(stats.pearsonr(set_a['IncomePerCap'],set_a['SelfEmployed']))\n",
    "\n",
    "print(stats.spearmanr(set_a['IncomePerCap'],set_a['SelfEmployed']))\n",
    "\n",
    "wisconsin = df.loc[df[\"State\"] == \"New Jersey\"]\n",
    "tenessee = df.loc[df[\"State\"] == \"Kansas\"]\n",
    "minnesota = df.loc[df[\"State\"] == \"Rhode Island\"]\n",
    "\n",
    "print(\"New Jersey\")\n",
    "print(stats.pearsonr(wisconsin['IncomePerCap'],wisconsin['SelfEmployed']))\n",
    "print(stats.spearmanr(wisconsin['IncomePerCap'],wisconsin['SelfEmployed']))\n",
    "\n",
    "print(\"Kansas\")\n",
    "print(stats.pearsonr(tenessee['IncomePerCap'],tenessee['SelfEmployed']))\n",
    "print(stats.spearmanr(tenessee['IncomePerCap'],tenessee['SelfEmployed']))\n",
    "\n",
    "print(\"Rhode Island\")\n",
    "print(stats.pearsonr(minnesota['IncomePerCap'],minnesota['SelfEmployed']))\n",
    "print(stats.spearmanr(minnesota['IncomePerCap'],minnesota['SelfEmployed']))\n",
    "\n",
    "\n",
    "per_capita_self_empl = df[['State','IncomePerCap', 'SelfEmployed']]\n",
    "\n",
    "\n",
    "all_states = per_capita_self_empl.loc[df[\"State\"].isin([\"New Jersey\", \"Kansas\", \"Rhode Island\"])]\n",
    "\n",
    "sns.lmplot(x='SelfEmployed',y='IncomePerCap', data=all_states, hue = 'State')\n",
    "plt.xlabel(\"% of Self Employed\")\n",
    "plt.ylabel(\"Income per Capita\")\n",
    "plt.ylim([10000,50000])\n",
    "plt.xlim([0,22])\n",
    "plt.show()"
   ]
  },
  {
   "cell_type": "markdown",
   "metadata": {},
   "source": [
    "Highly positively correlated for new jersey and rhode island at significant level"
   ]
  },
  {
   "cell_type": "markdown",
   "metadata": {},
   "source": [
    "# Exercise 2. Data visualization and read the stats comprehension and interpretation questions.\n",
    "\n",
    "- As part of the quizes, two homeworks and the final exam, you will be at times asked to interpret your result based on the understanding of underlying concepts. The questions below can help you practice and get a sense of how well you understand the concepts covered in the class so far. Can you answer these questions confidently?"
   ]
  },
  {
   "cell_type": "markdown",
   "metadata": {},
   "source": [
    "### Question 1. The yearly salaries (in thousands of CHF) of 7000 people are summarized in the following box plot. If the 20th percentile of the salaries is 110,000, how many people earn between 110,000 and 114,000?\n",
    "\n",
    "- a) 2100\n",
    "- b) 700\n",
    "- c) 350\n",
    "- d) 70"
   ]
  },
  {
   "cell_type": "markdown",
   "metadata": {},
   "source": [
    "<img src=\"boxplot.png\" style=\"width: 400px;\" align=\"left\"/>"
   ]
  },
  {
   "cell_type": "raw",
   "metadata": {
    "vscode": {
     "languageId": "raw"
    }
   },
   "source": [
    "### your code and or answer here ###\n",
    "there are 5 percent between 20 percentile and quartile \n",
    "5% * 7000 = 350"
   ]
  },
  {
   "cell_type": "markdown",
   "metadata": {},
   "source": [
    "### Question 2. What visualizations are suitable for getting insights about the distribution of a single continuous variable?\n",
    "\n",
    "- a) Barplot and histogram\n",
    "- b) Boxplot and histogram\n",
    "- c) Scatterplot and boxplot\n",
    "- d) Barplot, boxplot, and histogram"
   ]
  },
  {
   "cell_type": "raw",
   "metadata": {
    "vscode": {
     "languageId": "raw"
    }
   },
   "source": [
    "### your code and or answer here ###\n",
    "B\n",
    "\n",
    "since barplot is for discrete data and scatterplot does not make sense for continuous data"
   ]
  },
  {
   "cell_type": "markdown",
   "metadata": {},
   "source": [
    "### Question 3. In a new groundbreaking study, 28 out of 100 patients reported improvements after taking a new medicine. It is known that, when given a placebo, 20% of the patients report feeling better. What is the p-value assuming the null hypothesis that the probability of successful treatment in this groundbreaking study is the same as the probability of reporting feeling better under placebo, according to a one-sided binomial test? Hint: you may use the statsmodels.stats.proportion.binom_test function.\n",
    "\n",
    "- a) 0.00034\n",
    "- b) 0.0034\n",
    "- c) 0.034\n",
    "- d) 0.34"
   ]
  },
  {
   "cell_type": "code",
   "execution_count": 48,
   "metadata": {},
   "outputs": [
    {
     "name": "stdout",
     "output_type": "stream",
     "text": [
      "Answer : 0.03415162963907485\n"
     ]
    }
   ],
   "source": [
    "### your code and or answer here ###\n",
    "from statsmodels.stats import proportion\n",
    "r = proportion.binom_test(\n",
    "    count = 28, \n",
    "    nobs = 100, \n",
    "    prop = 0.2, #since we want proba of success to be the same as the proba of success under placebo test 'null hypothesis)\n",
    "    alternative='larger') #The test checks if the observed proportion is greater than the hypothesized proportion (prop).\n",
    "\n",
    "print(f\"Answer : {r}\")"
   ]
  },
  {
   "cell_type": "markdown",
   "metadata": {},
   "source": [
    "### Question 4. The 95% confidence interval of the average height of 1000 people using bootstrap resampling with 10000 bootstrap samples is calculated by:\n",
    "\n",
    "- a) Sampling 1000 height values with replacement and computing the mean. This is repeated 10000 times to create a sorted list of the 10000 means. The CI is defined by the 500th and the 9500th value in sorted order.\n",
    "- b) Sampling 10000 height values without replacement and computing the mean. This is repeated 1000 times to create a sorted list of the 1000 means. The CI is defined by the 25th and the 975th value in sorted order.\n",
    "- c) Sampling 1000 height values with replacement and computing the mean. This is repeated 10000 times to create a sorted list of the 10000 means. The CI is defined by the 250th and the 9750th value in sorted order.\n",
    "- d) Sampling 1000 height values without replacement and computing the mean. This is repeated 10000 times to create a sorted list of the 10000 means. The CI is defined by the 500th and the 9500th value in sorted order.\n",
    "\n",
    "### Implement your bootstrapping function that you will use in the rest of the course. It should take an array and the number of iterations as inputs, and output 95% confidence intervals of the mean."
   ]
  },
  {
   "cell_type": "code",
   "execution_count": 53,
   "metadata": {},
   "outputs": [
    {
     "name": "stdout",
     "output_type": "stream",
     "text": [
      "C\n",
      "[ 7.4 14.4]\n"
     ]
    }
   ],
   "source": [
    "### your code and or answer here ###\n",
    "print(\"C\")\n",
    "\n",
    "def bootstrap_CI(data, number_of_iterations = 1000):\n",
    "    bootstrap_means = []\n",
    "    for i in range(number_of_iterations):\n",
    "        bootstrap_sample = np.random.choice(data, size = len(data), replace = True)\n",
    "        bootstrap_means.append(bootstrap_sample.mean())\n",
    "    return np.percentile(bootstrap_means, [2.5, 97.5])\n",
    "\n",
    "data = [2, 4, 6, 8, 10, 12, 14, 16, 18, 20]\n",
    "print(bootstrap_CI(data))"
   ]
  },
  {
   "cell_type": "markdown",
   "metadata": {},
   "source": [
    "### Question 5. A study conducted at EPFL revealed a negative Spearman’s correlation between GPA and entry-level job salary. Which of the following statements is true?\n",
    "\n",
    "- a) There could be a positive Spearman’s correlation between GPA and entry-level job salary in every single department of EPFL.\n",
    "- b) Spearman correlation between GPA and entry-level job salary in every single department has to be positive.\n",
    "- c) Across all levels, as opposed to entry-level only, higher GPA scores are associated with higher job salaries.\n",
    "- d) We can infer that finishing EPFL with a higher GPA causes you to have a lower entry-level job salary."
   ]
  },
  {
   "cell_type": "raw",
   "metadata": {
    "vscode": {
     "languageId": "raw"
    }
   },
   "source": [
    "### your code and or answer here ###\n",
    "A"
   ]
  },
  {
   "cell_type": "markdown",
   "metadata": {},
   "source": [
    "### Question 6. The average number of requests per page during a day on a large website is 200, while the median is 15. \n",
    "\n",
    "- a) You can assume that the distribution is heavy-tailed.\n",
    "- b) You are dealing with a left-skewed distribution.\n",
    "- c) Half of the pages get more than 200 requests.\n",
    "- d) None of the above."
   ]
  },
  {
   "cell_type": "raw",
   "metadata": {
    "vscode": {
     "languageId": "raw"
    }
   },
   "source": [
    "### your code and or answer here ###\n",
    "d since not necessary heavy-tailed distribution "
   ]
  },
  {
   "cell_type": "raw",
   "metadata": {},
   "source": []
  }
 ],
 "metadata": {
  "kernelspec": {
   "display_name": "ada",
   "language": "python",
   "name": "python3"
  },
  "language_info": {
   "codemirror_mode": {
    "name": "ipython",
    "version": 3
   },
   "file_extension": ".py",
   "mimetype": "text/x-python",
   "name": "python",
   "nbconvert_exporter": "python",
   "pygments_lexer": "ipython3",
   "version": "3.11.9"
  },
  "varInspector": {
   "cols": {
    "lenName": 16,
    "lenType": 16,
    "lenVar": 40
   },
   "kernels_config": {
    "python": {
     "delete_cmd_postfix": "",
     "delete_cmd_prefix": "del ",
     "library": "var_list.py",
     "varRefreshCmd": "print(var_dic_list())"
    },
    "r": {
     "delete_cmd_postfix": ") ",
     "delete_cmd_prefix": "rm(",
     "library": "var_list.r",
     "varRefreshCmd": "cat(var_dic_list()) "
    }
   },
   "types_to_exclude": [
    "module",
    "function",
    "builtin_function_or_method",
    "instance",
    "_Feature"
   ],
   "window_display": false
  }
 },
 "nbformat": 4,
 "nbformat_minor": 4
}
